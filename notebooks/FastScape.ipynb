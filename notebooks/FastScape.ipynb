{
 "cells": [
  {
   "cell_type": "markdown",
   "metadata": {},
   "source": [
    "# FastScape\n",
    "\n",
    "This is the barebones of the model developed by Prof Jean Braun (jeaun.braun@ujf-grenoble.fr) that was implemented during a short course in early May 2016.\n",
    "\n",
    "## D8 Routing\n",
    "\n",
    "This is a routing algorithm.\n",
    "We will use the following:\n",
    "\n",
    "Grid of 10x10\n",
    "Boundary conditions:\n",
    "\n",
    "## C1\n",
    "* h = 0\n",
    "* U = 0\n",
    "on all boundaries so all at base level. However, this will need some 1m high random noise to perturb things."
   ]
  },
  {
   "cell_type": "code",
   "execution_count": 1,
   "metadata": {
    "collapsed": false
   },
   "outputs": [],
   "source": [
    "%matplotlib inline\n",
    "from __future__ import print_function\n",
    "import numpy as np\n",
    "import matplotlib.pyplot as plt\n",
    "from mpl_toolkits.mplot3d import Axes3D\n",
    "\n",
    "debug = False\n",
    "nx,ny = 51, 51\n",
    "nn = nx*ny\n",
    "xl, yl = 1000,1000\n",
    "kf = 0.0001\n",
    "n = 1\n",
    "m = 0.4\n",
    "u = 0.0002\n",
    "dt = 10000\n",
    "dx = xl/(nx-1) #change in x\n",
    "dy = yl/(ny-1) #change in y"
   ]
  },
  {
   "cell_type": "markdown",
   "metadata": {},
   "source": [
    "We need to add some random noise to each point in the mesh, because otherwise we can not create any receivers."
   ]
  },
  {
   "cell_type": "code",
   "execution_count": 2,
   "metadata": {
    "collapsed": false
   },
   "outputs": [
    {
     "name": "stdout",
     "output_type": "stream",
     "text": [
      "2601\n"
     ]
    }
   ],
   "source": [
    "#np.random.seed(123) #For checking that things are running the same each time.\n",
    "h = []\n",
    "for i in range(nn):\n",
    "    h.append(np.random.random())\n",
    "\n",
    "print(len(h))"
   ]
  },
  {
   "cell_type": "markdown",
   "metadata": {},
   "source": [
    "We now need to create the receiver function, so the first thing we need to have is the neighbours. From there, we can calculate the steepest slope of each neighbour, and therefore the receiver function.\n",
    "\n",
    "(It is possible to convert the 2D grid to a single vector. This is done for a given node `i,j` which will be referenced as `arr[ij]`. The general formula is `ij = i+(j-1)*nx`, which in Python (and other zero-based languages like C) becomes: `ij = i+j*nx` because of indexing.)\n",
    "\n",
    "First we set up the receiver array to have each value as itself and the length for each node to its steepest neighbour to be zero."
   ]
  },
  {
   "cell_type": "markdown",
   "metadata": {},
   "source": [
    "Then we can calculate the values for each point. This is done by stepping through the grid and finding the global reference.\n",
    "\n",
    "Once the global reference of a given point `ij` is known, we can compute the distance to each neighbour of `ij`, which, in combination with the heights of the point and each of its neighbours, can be used to calculate the slope. The calculation is simply `difference in height/distance`.\n",
    "\n",
    "This is a deeply nested loop: we want to go over each point in the overall grid (loop 1 and 2). We then look at a point `ij` and each of its eight neighbours and get a global value `ijk` for each neighbour in turn. The heights of `ij` are compared to each `ijk`."
   ]
  },
  {
   "cell_type": "code",
   "execution_count": 3,
   "metadata": {
    "collapsed": false
   },
   "outputs": [],
   "source": [
    "def receiver(h, nn):\n",
    "    rec_array = [i for i in range(nn)]\n",
    "    length =  [0 for i in range(nn)]\n",
    "    for i in range(1, nx-1):\n",
    "        for j in range(1, ny-1):\n",
    "            ij = i + j * nx\n",
    "            max_slope = 0\n",
    "            for ii in range(-1, 2):\n",
    "                for jj in range(-1, 2):\n",
    "                    ii_val = i + ii\n",
    "                    jj_val = j + jj\n",
    "                    ijk = ii_val + jj_val * nx\n",
    "                    if ijk != ij:\n",
    "                        distance = np.sqrt(((dx**2)*(ii**2))+((dy**2)*(jj**2)))\n",
    "                        slope = (h[ij] - h[ijk]) / distance\n",
    "                        if slope > max_slope:\n",
    "                            max_slope = slope\n",
    "                            rec_array[ij] = ijk\n",
    "                            length[ij] = distance\n",
    "    return (rec_array, length)"
   ]
  },
  {
   "cell_type": "markdown",
   "metadata": {},
   "source": [
    "## Donors\n",
    "\n",
    "Now, we need to know how many nodes give to a given node. Essentially, we want to answer the question: \"how many nodes have `ij` as a receiver?\"\n",
    "\n",
    "As a matter of convention, a node that is its own receiver (and therefore a local or global base level) will not be listed as a donor of itself, nor increment the donor count.\n",
    "\n",
    "This is an O(n^2) implementation:\n",
    "    donors = [[] for i in range(nn)]\n",
    "    num_donors = [0 for i in range(nn)]\n",
    "\n",
    "    for i in rec_array:\n",
    "        for j in rec_array:\n",
    "            if i != j:\n",
    "                if rec_array[j] == rec_array[i]:\n",
    "                    donors[i].append(j)\n",
    "                    num_donors[i] += 1\n",
    "\n",
    "This is a better, O(n) implementation. It works by getting each node to increment the count of the node it contains. It can then also add its own value to a list of (initially) empty lists."
   ]
  },
  {
   "cell_type": "code",
   "execution_count": 4,
   "metadata": {
    "collapsed": false
   },
   "outputs": [],
   "source": [
    "def get_donors(rec_array, nn):\n",
    "    num_donors = [0 for i in range(nn)]\n",
    "    donors = [[0 for i in range(nn)] for j in range(8)]\n",
    "\n",
    "    for ij in range(nn):\n",
    "        if rec_array[ij] != ij:\n",
    "            k = rec_array[ij]\n",
    "            donors[num_donors[k]][k] = ij\n",
    "            num_donors[k] += 1\n",
    "    return (num_donors, donors)"
   ]
  },
  {
   "cell_type": "markdown",
   "metadata": {},
   "source": [
    "## The Stack\n",
    "\n",
    "Now we want to try and identify the nodes that are linked to each other, which we will do recursively.\n",
    "\n",
    "1. First, we identify the base-level and local minima nodes.\n",
    "    * This is the case when each node is its own receiver.\n",
    "2. See its donors and go to each of their donors in turn."
   ]
  },
  {
   "cell_type": "code",
   "execution_count": 5,
   "metadata": {
    "collapsed": false
   },
   "outputs": [],
   "source": [
    "def find_stack(ij, stack, nstack, donors, num_donors, debug):\n",
    "    '''\n",
    "    Recursively put the donors of ij on the stack.\n",
    "    '''\n",
    "    for k in range(num_donors[ij]):\n",
    "        if debug:\n",
    "            print(\"ij:\", ij, \"k:\", k, \"nstack:\", nstack)\n",
    "        ijk = donors[k][ij]\n",
    "        stack[nstack[0]] = ijk\n",
    "        nstack[0] = nstack[0] + 1\n",
    "        if debug:\n",
    "            print (\"Before: \",ij, \"\\t\", k, \"\\t\", nstack, \"\\n\", stack) #Debugging comment\n",
    "        find_stack(ijk, stack, nstack, donors, num_donors, debug)\n",
    "\n",
    "def get_stack(rec_array, nn):\n",
    "    nstack = [0]\n",
    "    stack = [0 for i in range(nn)]\n",
    "    for ij in range(nn):\n",
    "        if rec_array[ij] == ij:\n",
    "            stack[nstack[0]] = ij\n",
    "            nstack[0] = nstack[0] + 1\n",
    "            if debug:\n",
    "                print(\"ij:\", ij, \"nstack:\", nstack) #debugging comment\n",
    "            find_stack(ij, stack, nstack, donors, num_donors, debug)\n",
    "    return stack"
   ]
  },
  {
   "cell_type": "markdown",
   "metadata": {},
   "source": [
    "## Area\n",
    "\n",
    "In order to create the overall area of each catchment, we want to know the area that each node in the catchment receives. This area is the sum of the area of each donor node, so we want to give the area of a given node to its reciever. If this is done for each node, then the area of a given node will be what we want it to be.\n",
    "\n",
    "Up until now, we have used the stack in normal order, ascending, but randomly spaced. If we reverse the stack, we can start at the highest points and sum all the values that each node gives to its receiver."
   ]
  },
  {
   "cell_type": "code",
   "execution_count": 6,
   "metadata": {
    "collapsed": false
   },
   "outputs": [],
   "source": [
    "def reverse_stack(stack, nn):\n",
    "    rev_stack = []\n",
    "    for i in range(nn):\n",
    "        if debug:\n",
    "            print(nn-i-1, stack[nn-i-1])\n",
    "        rev_stack.append(stack[nn-i-1])\n",
    "    return rev_stack\n",
    "\n",
    "def get_area(rev_stack, nn, rec_array):\n",
    "    area = [dx*dy for i in range(nn)]\n",
    "\n",
    "    for ij in rev_stack:\n",
    "        if ij != rec_array[ij]:\n",
    "            area[rec_array[ij]] = area[rec_array[ij]] + area[ij]\n",
    "    return area"
   ]
  },
  {
   "cell_type": "markdown",
   "metadata": {},
   "source": [
    "## The mathy bit\n",
    "\n",
    "### Rate of incision\n",
    "Starting from flat you concentrate some water, which then starts to cut down. The sides of a small channel becomes a localised slope, leading to failure. Most of the action is on the walls of the valley, but the driver is the stream in the valley base.\n",
    "\n",
    "Valleys tend to get deeper over time, and downstream. Without uplift with respect to base level, you can not get incision. This uplift is some sort of tectonic process, and is what causes rivers.\n",
    "\n",
    "Rate of incision is proportional to:\n",
    "1. Slope\n",
    "2. Discharge (Volume of Water / unit time)\n",
    "\n",
    "Rate of incision is as follows:\n",
    "\\begin{equation}\n",
    "\\frac{\\delta h}{\\delta t} = U-k_{f}A^{m}S^{n}\n",
    "\\end{equation}\n",
    "where $h =$ height, $t =$ time, $U =$ uplift, $S =$ slope, $A =$ catchment area, $k_f =$ fluvial erosion constant. $K_f = [10^8]$, $m/n = 0.4$ (therefore: $n=1, m=0.4$, and overall equation becomes \n",
    "\\begin{equation}\n",
    "\\frac{\\delta h}{\\delta t} = U-k_{f}A^{m=0.4}\n",
    "\\end{equation}\n",
    "*Catchment* is the area of a landscape that drains through a given point. This is what we calculated above, for each point in the grid.\n",
    "\n",
    "This can be rewritten as:\n",
    "\\begin{equation}\n",
    "\\frac{\\delta h}{\\delta t} = U-k_{f}A^{m} \\frac{\\delta h}{\\delta x}\n",
    "\\end{equation}\n",
    "for a given point x. Tells us how the change in time changes in relation to the change in time. Greater change in $h$ leads to more rapid change in $t$. You need to have an initial condition: $h( t = 0 )$ in order to see how things change without that. This also means that change in height for the entire area does not affect things. The value of the landscape needs to be fixed as well: $(h(x = x_0) = h_0$ as a boundary condition. This fixed height is termed *base level*, which is usually at sea level.\n",
    "\n",
    "Base level can be changed by either raising the land or lowering the sea.\n",
    "\n",
    "If we have a mesh with a known height $h$ for each $i$, $j$, we can use the first-order Taylor approximation:\n",
    "\\begin{equation}\n",
    "f(x) = f(a) + (x-a)\\frac{\\delta f}{\\delta x}(a)\n",
    "\\end{equation}\n",
    "for a given $i$,$j$.\n",
    "\n",
    "So, the Taylor approximations for our situation will be the following:\n",
    "\\begin{equation}\n",
    "h_{i,1j} = h_{ij} + \\Delta x \\frac{\\delta h}{\\delta x} ij\n",
    "\\end{equation}\n",
    "which means that the first order ( $\n",
    "\\frac{\\delta h}{\\delta x}ij \\simeq \\frac{h_{i+1j} - h_{ij}}{\\Delta x}\n",
    "$ )\n",
    "and second order (\n",
    "$\n",
    "\\frac{\\delta^2 h}{\\delta x^2}ij \\simeq \\frac{h_{i+1j} - h_{ij}}{\\Delta x^2}\n",
    "$ ) can be more easily computed.\n",
    "\n",
    "So, what we will try and solve is an implicit method, using the following:\n",
    "\\begin{equation}\n",
    "h_f(t + \\Delta t) = h_{ij}(t) + U\\Delta t - \\frac{k_f \\Delta t A_{ij}^m}{l_{ij}} \\left[h_{ij} + \\Delta h_{ij}\\right]\n",
    "\\end{equation}\n",
    "\n",
    "There is also an explicit solution, but this is harder to solve computationally.\n",
    "\n",
    "## Using the Donor, Receiver and Stack\n",
    "\n",
    "Given a mesh, with a stack calculated for the entire mesh, we know that a node on the boundary has nothing happening:\n",
    "$h_1 = 0$. From there, we can move up the stack, using the receiver of a given node as the previous time.\n",
    "\n",
    "Therefore, in the following:\n",
    "\\begin{equation}\n",
    "h_f(t + \\Delta t) = h_{ij}(t) + U\\Delta t - \\frac{k_f \\Delta t A_{ij}^m}{l_{ij}} \\left[h_{ij} + \\Delta h_{ij}\\right]\n",
    "\\end{equation}\n",
    "let $F = \\frac{k_f \\Delta t A_{ij}^m}{l_{ij}}$.\n",
    "Then\n",
    "\\begin{equation}\n",
    "h_f(t + \\Delta t) = \\frac{h_{ij}(t) + U\\Delta t + Fh_{ij}}{1 - F}\n",
    "\\end{equation}\n",
    "This works nicely, because for an arbitrarily small $\\Delta t$ we get:\n",
    "\\begin{equation}\n",
    "\\lim_{\\Delta t \\rightarrow 0} = \\frac{h_{ij}(t) + 0 + 0}{1 - 0}\n",
    "\\end{equation}\n",
    "and for an arbitrarily large $\\Delta t$:\n",
    "\\begin{equation}\n",
    "\\lim_{\\Delta t \\rightarrow \\infty} = \\frac{h_{ij}(t) + U\\Delta t + Fh_{ij}}{1 - F}\n",
    "\\end{equation}"
   ]
  },
  {
   "cell_type": "code",
   "execution_count": 7,
   "metadata": {
    "collapsed": false
   },
   "outputs": [],
   "source": [
    "def uplift(nx, ny, h, u, dt):\n",
    "    for i in range(1, nx-1):\n",
    "        for j in range(1, ny-1):\n",
    "            ij = i+j*nx\n",
    "            h[ij] = h[ij] + u * dt\n",
    "    return h"
   ]
  },
  {
   "cell_type": "code",
   "execution_count": 8,
   "metadata": {
    "collapsed": false
   },
   "outputs": [],
   "source": [
    "def erode(stack, nn, m, kf, dt, length):\n",
    "    for ij in range(nn):\n",
    "        ijk = stack[ij]\n",
    "        if rec_array[ijk] != ijk:\n",
    "            f = area[ij]**m*kf*dt / length[ijk]\n",
    "            h[ijk] = ( h[ijk] + f*h[rec_array[ijk]] ) / (1+f)\n",
    "    return h"
   ]
  },
  {
   "cell_type": "markdown",
   "metadata": {},
   "source": [
    "## Generating topography\n",
    "\n",
    "In order to get our topography, we need to iterate through the previous process a number of times. Each time will raise the landscape and erode."
   ]
  },
  {
   "cell_type": "code",
   "execution_count": 9,
   "metadata": {
    "collapsed": false
   },
   "outputs": [],
   "source": [
    "for i in range(100):\n",
    "    rec_array, length = receiver(h, nn)\n",
    "    num_donors, donors = get_donors(rec_array, nn)\n",
    "    stack = get_stack(rec_array, nn)\n",
    "    rev_stack = reverse_stack(stack, nn)\n",
    "    area = get_area(rev_stack, nn, rec_array)\n",
    "    h = uplift(nx, ny, h, u, dt)\n",
    "    h = erode(stack, nn, m, kf, dt, length)\n",
    "    #print (max(h), min(h), np.mean(h), np.median(h))"
   ]
  },
  {
   "cell_type": "markdown",
   "metadata": {},
   "source": [
    "### Pretty Artworks!\n",
    "\n",
    "So, now we want to actually be able to visualise what we have created.\n",
    "This is easily done using `matplotlib`.\n",
    "\n",
    "Because we have been using standard Python lists, we need to convert it to a numpy array. This can be easily reshaped back into our original grid using `np.reshape()` with the values of `nx` and `ny`.\n",
    "\n",
    "We can also do this as a 3D plot, if we desire. This works better outside the notebook for some reason.\n",
    "\n",
    "    fig = plt.figure()\n",
    "    ax = fig.add_subplot(1,1,1, projection='3d')\n",
    "    surf = ax.plot_surface(X,Y,to_plot,cmap='viridis')\n",
    "    plt.show()"
   ]
  },
  {
   "cell_type": "code",
   "execution_count": 10,
   "metadata": {
    "collapsed": false
   },
   "outputs": [
    {
     "data": {
      "text/plain": [
       "<matplotlib.contour.QuadContourSet at 0x37c3e10>"
      ]
     },
     "execution_count": 10,
     "metadata": {},
     "output_type": "execute_result"
    },
    {
     "data": {
      "image/png": "[encoded data removed]",
      "text/plain": [
       "<matplotlib.figure.Figure at 0x64754e0>"
      ]
     },
     "metadata": {},
     "output_type": "display_data"
    }
   ],
   "source": [
    "to_plot = np.array(h)\n",
    "to_plot = np.reshape(h, (nx,ny))\n",
    "x = range(nx)\n",
    "y = range(ny)\n",
    "\n",
    "X, Y = np.meshgrid(x, y)\n",
    "\n",
    "plt.contourf(X, Y, to_plot, cmap='viridis')"
   ]
  },
  {
   "cell_type": "markdown",
   "metadata": {},
   "source": [
    "## Cyclic Boundaries\n",
    "\n",
    "We can treat the grid as infinite in one axis by changing the `reciever()` function to wrap on one axis. We also need to allow the `uplift()` function to include those boundaries.\n",
    "\n",
    "So, instead of using the range 1 -- `nx-1`, we will use the full range of `nx`. (Note that this can also be done for the y axis, using `ny` instead.)"
   ]
  },
  {
   "cell_type": "code",
   "execution_count": 11,
   "metadata": {
    "collapsed": true
   },
   "outputs": [],
   "source": [
    "def cyc_receiver(h, nn):\n",
    "    rec_array = [i for i in range(nn)]\n",
    "    length =  [0 for i in range(nn)]\n",
    "    for i in range(nx):\n",
    "        for j in range(1, ny-1):\n",
    "            ij = i + j * nx\n",
    "            max_slope = 0\n",
    "            for ii in range(-1, 2):\n",
    "                for jj in range(-1, 2):\n",
    "                    ii_val = i + ii\n",
    "                    jj_val = j + jj\n",
    "                    if ii_val > nx-1:\n",
    "                        ii_val = 0\n",
    "                    elif ii_val < 0:\n",
    "                        ii_val = nx-1\n",
    "                    ijk = ii_val + jj_val * nx\n",
    "                    if ijk != ij:\n",
    "                        distance = np.sqrt(((dx**2)*(ii**2))+((dy**2)*(jj**2)))\n",
    "                        slope = (h[ij] - h[ijk]) / distance\n",
    "                        if slope > max_slope:\n",
    "                            max_slope = slope\n",
    "                            rec_array[ij] = ijk\n",
    "                            length[ij] = distance\n",
    "    return (rec_array, length)\n",
    "\n",
    "def cyc_uplift(nx, ny, h, u, dt):\n",
    "    for i in range(nx):\n",
    "        for j in range(1, ny-1):\n",
    "            ij = i+j*nx\n",
    "            h[ij] += u * dt\n",
    "    return h"
   ]
  },
  {
   "cell_type": "markdown",
   "metadata": {
    "collapsed": false
   },
   "source": [
    "We can then repeat our earlier running and plotting steps, using our new `cyc_receiver()` and `cyc_uplift()` functions."
   ]
  },
  {
   "cell_type": "code",
   "execution_count": 12,
   "metadata": {
    "collapsed": false
   },
   "outputs": [],
   "source": [
    "for i in range(100):\n",
    "    rec_array, length = cyc_receiver(h, nn)\n",
    "    num_donors, donors = get_donors(rec_array, nn)\n",
    "    stack = get_stack(rec_array, nn)\n",
    "    rev_stack = reverse_stack(stack, nn)\n",
    "    area = get_area(rev_stack, nn, rec_array)\n",
    "    h = cyc_uplift(nx, ny, h, u, dt)\n",
    "    h = erode(stack, nn, m, kf, dt, length)\n",
    "    if i == 50:\n",
    "        u = 0\n",
    "    #print (max(h), min(h), np.mean(h), np.median(h))"
   ]
  },
  {
   "cell_type": "code",
   "execution_count": 13,
   "metadata": {
    "collapsed": false
   },
   "outputs": [
    {
     "data": {
      "text/plain": [
       "<matplotlib.contour.QuadContourSet at 0x6d8d278>"
      ]
     },
     "execution_count": 13,
     "metadata": {},
     "output_type": "execute_result"
    },
    {
     "data": {
      "image/png": "[encoded data removed]",
      "text/plain": [
       "<matplotlib.figure.Figure at 0x6cfae80>"
      ]
     },
     "metadata": {},
     "output_type": "display_data"
    }
   ],
   "source": [
    "to_plot = np.array(h)\n",
    "to_plot = np.reshape(h, (nx,ny))\n",
    "x = range(nx)\n",
    "y = range(ny)\n",
    "\n",
    "X, Y = np.meshgrid(x, y)\n",
    "\n",
    "plt.contourf(X, Y, to_plot, cmap='viridis')"
   ]
  },
  {
   "cell_type": "markdown",
   "metadata": {},
   "source": [
    "It is is also possible to plot the value of the `area` rather than the value of the `height` at each point.\n",
    "\n",
    "This gives us an indication of the discharge at a given point."
   ]
  },
  {
   "cell_type": "code",
   "execution_count": 14,
   "metadata": {
    "collapsed": false
   },
   "outputs": [
    {
     "data": {
      "text/plain": [
       "<matplotlib.contour.QuadContourSet at 0x6f535f8>"
      ]
     },
     "execution_count": 14,
     "metadata": {},
     "output_type": "execute_result"
    },
    {
     "data": {
      "image/png": "[encoded data removed]",
      "text/plain": [
       "<matplotlib.figure.Figure at 0x6ea5cf8>"
      ]
     },
     "metadata": {},
     "output_type": "display_data"
    }
   ],
   "source": [
    "to_plot = np.array(area)\n",
    "to_plot = np.reshape(area, (nx,ny))\n",
    "x = range(nx)\n",
    "y = range(ny)\n",
    "\n",
    "X, Y = np.meshgrid(x, y)\n",
    "\n",
    "plt.contourf(X, Y, to_plot, cmap='viridis')"
   ]
  },
  {
   "cell_type": "markdown",
   "metadata": {},
   "source": [
    "### A Caveat\n",
    "\n",
    "The resolution that you use will affect the number of rivers. A reliance on the resolution of your model affecting your model is usually a bad thing.\n",
    "\n",
    "In order to eliminate this, we will allow for diffusion off the slopes.\n",
    "\n",
    "This uses the well-known diffusion equation:\n",
    "\\begin{equation}\n",
    "\\frac{\\delta h}{\\delta t} = K_D\\frac{\\delta^2 h}{\\delta x^2}\n",
    "\\end{equation} for $h(x=0) = 0, h(x=l) = 0, h(t=0) = ?$\n",
    "\n",
    "Explicit $\\rightarrow$ Diffusion\n",
    "$\\Delta t << \\tau$ (the charactistic time scale)\n",
    "\n",
    "Characteristic diffusion time scale:\n",
    "$\\tau = \\frac{L^2}{K_D} = \\frac{{x_l}^2}{K_D}$\n",
    "\n",
    "So, we want to get this to be dimensionless by dividing each dimensioned variable by a characteristic unit:\n",
    "$h' = h/H, x' = x/L, t' = t/\\tau$\n",
    "\n",
    "By letting $\\tau = \\frac{L^2}{K_D}$, we can simplify things to:\n",
    "\\begin{equation}\n",
    "\\frac{h'}{\\delta t'} = K_D\\frac{\\delta^2 h'}{\\delta x'^2}\n",
    "\\end{equation}\n",
    "\n",
    "$\\tau$ here is the diffusion time scale, and will indicate the amount of time that it would take to erode a given hill.\n",
    "For the model we have, $L^2$ is 100km $\\times$ 100km ($10^9$), and $\\tau$ is:\n",
    "$\\frac{{10^5}^2}{10} << 10^9$"
   ]
  },
  {
   "cell_type": "code",
   "execution_count": 15,
   "metadata": {
    "collapsed": false
   },
   "outputs": [],
   "source": [
    "def diffusion():\n",
    "    #stuff for diffusion:\n",
    "    hp = []\n",
    "    hp = [h[ij] for ij in range(nn)]\n",
    "    \n",
    "    fact_x = dt*kd/dx**2\n",
    "    fact_y = dt*kd/dy**2\n",
    "    \n",
    "    for j in range(1,ny-1):\n",
    "        for i in range(1,nx-1):\n",
    "            ipj = i+j*nx\n",
    "            imj = -i+j*nx\n",
    "            ijp = i+(j+1)*nx\n",
    "            if ijp > ny-1:\n",
    "                ijp = 0\n",
    "            elif ijp < 0:\n",
    "                ijp = ny-1\n",
    "            ijm = i+(j-1)*nx\n",
    "            if ijm < 0:\n",
    "                ijm = ny-1\n",
    "            h[ij] = h[ij] + fact_x * ( hp[ipj] - 2*hp[ij] + hp[ijm] ) + fact_y * ( hp[ijp] - 2*hp[ij] + hp[ijm] )"
   ]
  },
  {
   "cell_type": "code",
   "execution_count": 16,
   "metadata": {
    "collapsed": false
   },
   "outputs": [
    {
     "data": {
      "text/plain": [
       "<matplotlib.contour.QuadContourSet at 0x7043e48>"
      ]
     },
     "execution_count": 16,
     "metadata": {},
     "output_type": "execute_result"
    },
    {
     "data": {
      "image/png": "[encoded data removed]",
      "text/plain": [
       "<matplotlib.figure.Figure at 0x726c4a8>"
      ]
     },
     "metadata": {},
     "output_type": "display_data"
    }
   ],
   "source": [
    "for i in range(100):\n",
    "    rec_array, length = cyc_receiver(h, nn)\n",
    "    num_donors, donors = get_donors(rec_array, nn)\n",
    "    stack = get_stack(rec_array, nn)\n",
    "    rev_stack = reverse_stack(stack, nn)\n",
    "    area = get_area(rev_stack, nn, rec_array)\n",
    "    h = cyc_uplift(nx, ny, h, u, dt)\n",
    "    h = erode(stack, nn, m, kf, dt, length)\n",
    "    #print (max(h), min(h), np.mean(h), np.median(h))\n",
    "\n",
    "to_plot = np.array(h)\n",
    "to_plot = np.reshape(h, (nx,ny))\n",
    "x = range(nx)\n",
    "y = range(ny)\n",
    "\n",
    "X, Y = np.meshgrid(x, y)\n",
    "\n",
    "plt.contourf(X, Y, to_plot, cmap='viridis')"
   ]
  },
  {
   "cell_type": "markdown",
   "metadata": {},
   "source": [
    "### Another caveat regarding explicit modelling\n",
    "\n",
    "When using explicit models, we have to satisfy the *Courant condition*:\n",
    "$\\Delta t < \\frac{\\Delta x^2}{\\kappa_d}$\n",
    "\n",
    "For our model with `nx,ny` = 50:\n",
    "$\\Delta t$ must be $ < \\frac{{2\\times10^3}^2}{10}$, so a time step of 10,000 years is reasonable.\n",
    "\n",
    "As you increase the resolution of the mesh, then you need to at some point, also increase your time step. If this is not done, things become unstable, and the model becomes useless.\n",
    "\n",
    "#### However...\n",
    "... while the implicit solution is immune to this instability, it is much slower to try and solve.\n",
    "\n",
    "### A final hint:\n",
    "You need to validate a model. The best way is to solve a problem where there is a known solution. If your model gives you the correct answer, there is a good chance that the model is correct.\n",
    "\n",
    "For the diffusion equation, the $\\sin$ of the equation should also be sinusoidal."
   ]
  },
  {
   "cell_type": "code",
   "execution_count": null,
   "metadata": {
    "collapsed": true
   },
   "outputs": [],
   "source": []
  }
 ],
 "metadata": {
  "kernelspec": {
   "display_name": "Python 2",
   "language": "python",
   "name": "python2"
  },
  "language_info": {
   "codemirror_mode": {
    "name": "ipython",
    "version": 2
   },
   "file_extension": ".py",
   "mimetype": "text/x-python",
   "name": "python",
   "nbconvert_exporter": "python",
   "pygments_lexer": "ipython2",
   "version": "2.7.11"
  }
 },
 "nbformat": 4,
 "nbformat_minor": 0
}
