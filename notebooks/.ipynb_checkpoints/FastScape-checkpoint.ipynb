{
 "cells": [
  {
   "cell_type": "markdown",
   "metadata": {},
   "source": [
    "# FastScape\n",
    "\n",
    "This is the barebones of the model developed by Prof Jean Braun (jeaun.braun@ujf-grenoble.fr) of [Université Grenoble Alps](http://www.univ-grenoble-alpes.fr/en/)' Institute of Earth Sciences ([ISTerre](https://isterre.fr/?lang=en)) that was partially implemented during a short course in early May 2016 at [Nelson Mandela Metropolitan University](http://www.nmmu.ac.za), organised by the [Africa Earth Observatory Network](http://aeon.org.za). The full model is implemented in Fortran, and can also be found in this repository as [fastscape.tar.gz](../braun_scripts/fastscape.tar.gz). (Note that requests for help with the full model should be directed to Prof Braun, not the repository owner.) It contains a lot more functionality, although this is essentially the kernel of it all.\n",
    "\n",
    "The basic approach can be found in [Braun and Willet, 2012](http://dx.doi.org/10.1016/j.geomorph.2012.10.008) (paywall) but is summarised here anyway. More extensive notes and lecture slides compiled by Prof Braun can be found [here](../notes/)."
   ]
  },
  {
   "cell_type": "markdown",
   "metadata": {},
   "source": [
    "## Background\n",
    "\n",
    "Starting from a flat landscape you concentrate some water, which then starts to cut down into the landscape. The sides of a small channel becomes a localised slope, leading to failure. Most of the action is on the walls of the valley, but the driver is the stream in the valley base.\n",
    "\n",
    "Valleys tend to get deeper over time, and downstream. Without uplift with respect to base level, you can not get incision. This uplift is some sort of tectonic process, and is what causes rivers which incise downwards."
   ]
  },
  {
   "cell_type": "markdown",
   "metadata": {},
   "source": [
    "### Rate of incision\n",
    "\n",
    "This is proportional to:\n",
    "* Slope\n",
    "* Discharge (Volume of Water / unit time)\n",
    "\n",
    "This can be written as follows:\n",
    "\\begin{equation}\n",
    "\\frac{\\delta h}{\\delta t} = U-k_{f}A^{m}S^{n}\n",
    "\\end{equation}\n",
    "where $h =$ height, $t =$ time, $U =$ uplift, $S =$ slope, $A =$ catchment area, $k_f =$ fluvial erosion constant.\n",
    "\n",
    "Some of these are constants: $K_f = 10^8$, $m/n = 0.4$. By convention, $n=1, m=0.4$, which means that the overall equation becomes almost entirely reliant on the area:\n",
    "\\begin{equation}\n",
    "\\frac{\\delta h}{\\delta t} = U-k_{f}A^{m=0.4}\n",
    "\\end{equation}\n",
    "*Catchment* is the area of a landscape that drains through a given point.\n",
    "\n",
    "This can be rewritten as:\n",
    "\\begin{equation}\n",
    "\\frac{\\delta h}{\\delta t} = U-k_{f}A^{m} \\frac{\\delta h}{\\delta x}\n",
    "\\end{equation}\n",
    "for a given point x. Tells us how the change in time changes in relation to the change in time. Greater change in $h$ leads to more rapid change in $t$. You need to have an initial condition, when $h( t = 0 )$ and step forward from there. This also means that change in height for the entire area does not affect things. The relative height of the landscape needs to be fixed as well: $(h(x = x_0) = h_0$ as a boundary condition. This fixed height is termed \\emph{base level}, which is usually at sea level, although it is possible to get some local base-levels (lakes, reservoirs, &c).\n",
    "\n",
    "Base level can be changed by either raising land or lowering sea level."
   ]
  },
  {
   "cell_type": "markdown",
   "metadata": {},
   "source": [
    "### Basic Approach\n",
    "\n",
    "In order to model this, we will create a grid of heights, a la a digital elevation model. Then, the area around each node can be stored. The area of each node is $\\delta x \\times \\delta y$, where each of these is the $\\delta x = x_{length} / x_{number}$ and $\\delta y = y_{length} / y_{number}$. For our model, $x_{length},y_{length} = 10000$m and $x_{number}, y_{number}$ varies, but will usually be at least 51 (giving 50 $\\times$ 50 nodes in our grid)."
   ]
  },
  {
   "cell_type": "markdown",
   "metadata": {},
   "source": [
    "## Coding it up\n",
    "\n",
    "First, we need to set our constants and import what we need to import (the latter are mostly plotting and utility libraries: `matplotlib`, `numpy`, `Axes3D`.\n",
    "\n",
    "#### A note to make things easier:\n",
    "It is possible to convert the 2D grid to a single list or 1D array. This is done for a given node `i,j` which can then be referenced as `arr[ij]`. The general formula (used as-is in MATLAB, R, Fortran and other 1-indexed languages) is `ij = i+(j-1)*nx`, which in Python (and other zero-indexed languages like C, C++ and Java) becomes: `ij = i+j*nx`. Most of our array manipulation will be done using this approach."
   ]
  },
  {
   "cell_type": "code",
   "execution_count": 1,
   "metadata": {
    "collapsed": false
   },
   "outputs": [],
   "source": [
    "%matplotlib inline\n",
    "from __future__ import print_function\n",
    "import numpy as np\n",
    "import matplotlib.pyplot as plt\n",
    "from mpl_toolkits.mplot3d import Axes3D\n",
    "\n",
    "debug = False\n",
    "nx,ny = 51, 51 #size of the grid to be created\n",
    "nn = nx*ny\n",
    "xl, yl = 10000,10000 #overall size of model \n",
    "kf = 0.0001 #Fluvial erosion constant\n",
    "kd = 10 #diffusion constant\n",
    "n = 1 #by convention\n",
    "m = 0.4 #by convention\n",
    "u = 0.0002 #uplift per time step\n",
    "dt = 10000 #time step in years\n",
    "dx = xl/(nx-1) #change in x\n",
    "dy = yl/(ny-1) #change in y"
   ]
  },
  {
   "cell_type": "markdown",
   "metadata": {},
   "source": [
    "In order to create streams in various directions, we need to have changes in height across our grid. This means that we will create a grid with random heights:"
   ]
  },
  {
   "cell_type": "code",
   "execution_count": 2,
   "metadata": {
    "collapsed": false
   },
   "outputs": [],
   "source": [
    "#np.random.seed(123) #For checking that things are running the same each time.\n",
    "h = []\n",
    "for i in range(nn):\n",
    "    h.append(np.random.random())"
   ]
  },
  {
   "cell_type": "markdown",
   "metadata": {},
   "source": [
    "### Receivers\n",
    "\n",
    "We now need to create the receiver array, which tells us where each node gives its water. If it gives water to itself, then it is either a base-level node or a local minima. To do this, the first thing we need to have is to work out the neighbours of each node. From there, we can calculate which neighbour has the steepest gradient, and therefore the receiver of the water that each node gets."
   ]
  },
  {
   "cell_type": "markdown",
   "metadata": {},
   "source": [
    "First we set up the receiver array to have each value as itself and the length for each node to its steepest neighbour to be zero.\n",
    "\n",
    "Then we can calculate the values for each point. This is done by stepping through the grid and finding the global reference `ij`, which was discussed above.\n",
    "\n",
    "Once `ij` is known, we can compute the distance to each neighbour of `ij`, which, in combination with the heights of the point and each of its neighbours, can be used to calculate the slope. The calculation is simply $slope = \\frac{h_{ij} - h_{neighbour}}{distance}$.\n",
    "\n",
    "This is a deeply nested loop: we want to go over each point in the overall grid (loop 1 and 2). We then have a point `ij` and using another two loops, check each of its eight neighbours (by doing loop 3 and loop 4 for -1, 0, 1 each). This allows us to easily get a global value `ijk` for each neighbour in turn:\n",
    "\n",
    "    |i-1,j-1|i,j-1|i+1,j-1|\n",
    "    | i-1,j | i,j | i+1,j |\n",
    "    |i-1,j+1|i,j+1|i+1,j+1|\n",
    "\n",
    "The slopes of `ij` to each `ijk` are compared and the maximum slope and the length to that `ijk` is stored."
   ]
  },
  {
   "cell_type": "code",
   "execution_count": 3,
   "metadata": {
    "collapsed": false
   },
   "outputs": [],
   "source": [
    "def receiver(h, nn):\n",
    "    rec_array = [i for i in range(nn)]\n",
    "    length =  [0 for i in range(nn)]\n",
    "    for i in range(1, nx-1): #loop 1\n",
    "        for j in range(1, ny-1): #loop 2\n",
    "            ij = i + j * nx\n",
    "            max_slope = 0\n",
    "            for ii in range(-1, 2): #check neighbours (loop 3)\n",
    "                for jj in range(-1, 2): #check neighbours (loop 4)\n",
    "                    ii_val = i + ii\n",
    "                    jj_val = j + jj\n",
    "                    ijk = ii_val + jj_val * nx\n",
    "                    if ijk != ij:\n",
    "                        distance = np.sqrt(((dx**2)*(ii**2))+((dy**2)*(jj**2)))\n",
    "                        slope = (h[ij] - h[ijk]) / distance\n",
    "                        if slope > max_slope:\n",
    "                            max_slope = slope\n",
    "                            rec_array[ij] = ijk\n",
    "                            length[ij] = distance\n",
    "    return (rec_array, length)"
   ]
  },
  {
   "cell_type": "markdown",
   "metadata": {},
   "source": [
    "## Donors\n",
    "\n",
    "From the previous, we have a list of where each node gives its water to. In this notebook's implementation, there is only ever one receiver for a given node (although it is possible to use a more sophisticated approach where the water is given proportionally to any nodes downslope according to which is the steepest (search for the D-infinity Algorithm if interested)).\n",
    "\n",
    "However, there may be more than one donor to a given `ij`. There can be up to eight donors, in cases where `ij` is a local minima. This is equivalent to determining how many nodes have `ij` as a receiver.\n",
    "\n",
    "As a matter of convention, a node that is its own receiver (and therefore a local or global base level) will not be listed as a donor of itself, nor increment the donor count.\n",
    "\n",
    "This is an O(n^2) implementation, which works, but is relatively inefficient:\n",
    "\n",
    "    donors = [[] for i in range(nn)]\n",
    "    num_donors = [0 for i in range(nn)]\n",
    "\n",
    "    for i in rec_array:\n",
    "        for j in rec_array:\n",
    "            if i != j:\n",
    "                if rec_array[j] == rec_array[i]:\n",
    "                    donors[i].append(j)\n",
    "                    num_donors[i] += 1\n",
    "\n",
    "This is a better, O(n) implementation. It works by getting each node to increment the count of the node it contains. It can then also add its own value to a list of (initially) empty lists of length 8."
   ]
  },
  {
   "cell_type": "code",
   "execution_count": 4,
   "metadata": {
    "collapsed": false
   },
   "outputs": [],
   "source": [
    "def get_donors(rec_array, nn):\n",
    "    num_donors = [0 for i in range(nn)]\n",
    "    donors = [[0 for i in range(nn)] for j in range(8)]\n",
    "\n",
    "    for ij in range(nn):\n",
    "        if rec_array[ij] != ij:\n",
    "            k = rec_array[ij]\n",
    "            donors[num_donors[k]][k] = ij\n",
    "            num_donors[k] += 1\n",
    "    return (num_donors, donors)"
   ]
  },
  {
   "cell_type": "markdown",
   "metadata": {},
   "source": [
    "## The Stack\n",
    "\n",
    "Now we want to try and identify the nodes that are linked to each other, which we will do recursively.\n",
    "\n",
    "1. First, we identify the base-level and local minima nodes.\n",
    "    * This is the case when each node is its own receiver.\n",
    "2. See its donors and go to each of their donors in turn.\n",
    "\n",
    "This stack will be used for a variety of things later."
   ]
  },
  {
   "cell_type": "code",
   "execution_count": 5,
   "metadata": {
    "collapsed": false
   },
   "outputs": [],
   "source": [
    "def find_stack(ij, stack, nstack, donors, num_donors, debug):\n",
    "    '''\n",
    "    Recursively put the donors of ij on the stack.\n",
    "    '''\n",
    "    for k in range(num_donors[ij]):\n",
    "        if debug:\n",
    "            print(\"ij:\", ij, \"k:\", k, \"nstack:\", nstack)\n",
    "        ijk = donors[k][ij]\n",
    "        stack[nstack[0]] = ijk\n",
    "        nstack[0] = nstack[0] + 1\n",
    "        if debug:\n",
    "            print (\"Before: \",ij, \"\\t\", k, \"\\t\", nstack, \"\\n\", stack) #Debugging comment\n",
    "        find_stack(ijk, stack, nstack, donors, num_donors, debug)\n",
    "\n",
    "def get_stack(rec_array, nn):\n",
    "    nstack = [0]\n",
    "    stack = [0 for i in range(nn)]\n",
    "    for ij in range(nn):\n",
    "        if rec_array[ij] == ij:\n",
    "            stack[nstack[0]] = ij\n",
    "            nstack[0] = nstack[0] + 1\n",
    "            if debug:\n",
    "                print(\"ij:\", ij, \"nstack:\", nstack) #debugging comment\n",
    "            find_stack(ij, stack, nstack, donors, num_donors, debug)\n",
    "    return stack"
   ]
  },
  {
   "cell_type": "markdown",
   "metadata": {},
   "source": [
    "## Area\n",
    "\n",
    "In order to create the overall area of each catchment, we want to know the area that each node in the catchment receives. This area is the sum of the area of each donor node, so we want to give the area of a given node to its reciever. If this is done for each node, then the area of a given node will be what we want it to be.\n",
    "\n",
    "Up until now, we have used the stack in normal order, ascending, but randomly spaced. If we reverse the stack, we can start at the highest points and sum all the values that each node gives to its receiver.\n",
    "\n",
    "Note that Python allows for `stack.reverse()`, but this modifies it in place, and we want to preserve the original stack for later. If `stack.reverse()` is used, it needs to be used again before working with the original stack or you will have a bad time."
   ]
  },
  {
   "cell_type": "code",
   "execution_count": 6,
   "metadata": {
    "collapsed": false
   },
   "outputs": [],
   "source": [
    "def reverse_stack(stack, nn):\n",
    "    rev_stack = []\n",
    "    for i in range(nn):\n",
    "        if debug:\n",
    "            print(nn-i-1, stack[nn-i-1])\n",
    "        rev_stack.append(stack[nn-i-1])\n",
    "    return rev_stack\n",
    "\n",
    "def get_area(rev_stack, nn, rec_array):\n",
    "    area = [dx*dy for i in range(nn)]\n",
    "\n",
    "    for ij in rev_stack:\n",
    "        if ij != rec_array[ij]:\n",
    "            area[rec_array[ij]] = area[rec_array[ij]] + area[ij]\n",
    "    return area"
   ]
  },
  {
   "cell_type": "markdown",
   "metadata": {},
   "source": [
    "## The mathy bit\n",
    "\n",
    "If we have a mesh with a known height $h$ for each $i$, $j$, we can use the first-order Taylor approximation:\n",
    "\\begin{equation}\n",
    "f(x) = f(a) + (x-a)\\frac{\\delta f}{\\delta x}(a)\n",
    "\\end{equation}\n",
    "for a given $i$,$j$.\n",
    "\n",
    "So, the Taylor approximations for our situation will be the following:\n",
    "\\begin{equation}\n",
    "h_{i,1j} = h_{ij} + \\Delta x \\frac{\\delta h}{\\delta x} ij\n",
    "\\end{equation}\n",
    "which means that the first order ( $\n",
    "\\frac{\\delta h}{\\delta x}ij \\simeq \\frac{h_{i+1j} - h_{ij}}{\\Delta x}\n",
    "$ )\n",
    "and second order (\n",
    "$\n",
    "\\frac{\\delta^2 h}{\\delta x^2}ij \\simeq \\frac{h_{i+1j} - h_{ij}}{\\Delta x^2}\n",
    "$ ) can be more easily computed.\n",
    "\n",
    "So, what we will try and solve is an implicit method, using the following:\n",
    "\\begin{equation}\n",
    "h_f(t + \\Delta t) = h_{ij}(t) + U\\Delta t - \\frac{k_f \\Delta t A_{ij}^m}{l_{ij}} \\left[h_{ij} + \\Delta h_{ij}\\right]\n",
    "\\end{equation}\n",
    "\n",
    "There is also an explicit solution, but this is harder to solve computationally."
   ]
  },
  {
   "cell_type": "markdown",
   "metadata": {},
   "source": [
    "## Using the Donor, Receiver and Stack\n",
    "\n",
    "Given a mesh, with a stack calculated for the entire mesh, we know that a node on the boundary has nothing happening:\n",
    "$h_1 = 0$. From there, we can move up the stack, using the receiver of a given node as the previous time.\n",
    "\n",
    "Therefore, in the following:\n",
    "\\begin{equation}\n",
    "h_f(t + \\Delta t) = h_{ij}(t) + U\\Delta t - \\frac{k_f \\Delta t A_{ij}^m}{l_{ij}} \\left[h_{ij} + \\Delta h_{ij}\\right]\n",
    "\\end{equation}\n",
    "let $F_{ij} = \\frac{k_f \\Delta t A_{ij}^m}{l_{ij}}$.\n",
    "Then\n",
    "\\begin{equation}\n",
    "h_f(t + \\Delta t) = \\frac{h_{ij}(t) + U\\Delta t + F_{ij} h_{ij}}{1 - F}\n",
    "\\end{equation}\n",
    "This works nicely, because for an arbitrarily small $\\Delta t$ we get:\n",
    "\\begin{equation}\n",
    "\\lim_{\\Delta t \\rightarrow 0} = \\frac{h_{ij}(t) + 0 + 0}{1 - 0}\n",
    "\\end{equation} which indicates that there has been no change.\n",
    "\n",
    "For an arbitrarily large $\\Delta t$, on the other hand:\n",
    "\\begin{equation}\n",
    "\\lim_{\\Delta t \\rightarrow \\infty} = \\frac{h_{ij}(t) + U\\Delta t + F_{ij} h_{ij}}{1 - F}\n",
    "\\end{equation}\n",
    "we erode to nothing (aka: Belgium)."
   ]
  },
  {
   "cell_type": "markdown",
   "metadata": {},
   "source": [
    "### Implemention of the above\n",
    "These equations are relatively easy to implement, since we can change `h` for each time step as we uplift."
   ]
  },
  {
   "cell_type": "code",
   "execution_count": 7,
   "metadata": {
    "collapsed": false
   },
   "outputs": [],
   "source": [
    "def uplift(nx, ny, h, u, dt):\n",
    "    for i in range(1, nx-1):\n",
    "        for j in range(1, ny-1):\n",
    "            ij = i+j*nx\n",
    "            h[ij] += u * dt\n",
    "    return h"
   ]
  },
  {
   "cell_type": "markdown",
   "metadata": {},
   "source": [
    "Eroding works similarly, but uses the value of the stack (which is the receiver of a given node in the stack). If a given recieving node is not a base level, it will erode down, based on the area of the nodes that are upstream of it.\n",
    "\n",
    "(Note that if we had used `stack.reverse()` earlier, we would need to call it again before calling `erode()`."
   ]
  },
  {
   "cell_type": "code",
   "execution_count": 8,
   "metadata": {
    "collapsed": false
   },
   "outputs": [],
   "source": [
    "def erode(stack, nn, m, kf, dt, length):\n",
    "    for ij in range(nn):\n",
    "        ijk = stack[ij]\n",
    "        if rec_array[ijk] != ijk:\n",
    "            f = area[ij]**m*kf*dt / length[ijk]\n",
    "            h[ijk] = ( h[ijk] + f*h[rec_array[ijk]] ) / (1+f)\n",
    "    return h"
   ]
  },
  {
   "cell_type": "markdown",
   "metadata": {},
   "source": [
    "## Generating topography\n",
    "\n",
    "In order to get our topography, we need to iterate through the previous process a number of times. Each time will raise the landscape and erode. On every iteration, we also need to recalculate the receiver array, the donor information, the stack, and area."
   ]
  },
  {
   "cell_type": "code",
   "execution_count": 9,
   "metadata": {
    "collapsed": false
   },
   "outputs": [],
   "source": [
    "for i in range(100):\n",
    "    rec_array, length = receiver(h, nn)\n",
    "    num_donors, donors = get_donors(rec_array, nn)\n",
    "    stack = get_stack(rec_array, nn)\n",
    "    rev_stack = reverse_stack(stack, nn)\n",
    "    area = get_area(rev_stack, nn, rec_array)\n",
    "    h = uplift(nx, ny, h, u, dt)\n",
    "    h = erode(stack, nn, m, kf, dt, length)\n",
    "    #print (max(h), min(h), np.mean(h), np.median(h))"
   ]
  },
  {
   "cell_type": "markdown",
   "metadata": {},
   "source": [
    "### Pretty Artworks!\n",
    "\n",
    "So, now we want to actually be able to visualise what we have created.\n",
    "This is easily done using `matplotlib`.\n",
    "\n",
    "Because we have been using standard Python lists, we need to convert it to a numpy array. This can be easily reshaped back into our original grid using `np.reshape()` with the values of `nx` and `ny`.\n",
    "\n",
    "We can also do this as a 3D plot, if we desire. This works better outside the notebook for some reason.\n",
    "\n",
    "    fig = plt.figure()\n",
    "    ax = fig.add_subplot(1,1,1, projection='3d')\n",
    "    surf = ax.plot_surface(X,Y,to_plot,cmap='viridis')\n",
    "    plt.show()"
   ]
  },
  {
   "cell_type": "code",
   "execution_count": 10,
   "metadata": {
    "collapsed": false
   },
   "outputs": [
    {
     "data": {
      "text/plain": [
       "<matplotlib.contour.QuadContourSet at 0x37f6f60>"
      ]
     },
     "execution_count": 10,
     "metadata": {},
     "output_type": "execute_result"
    },
    {
     "data": {
      "image/png": "[encoded data removed]",
      "text/plain": [
       "<matplotlib.figure.Figure at 0x661f2b0>"
      ]
     },
     "metadata": {},
     "output_type": "display_data"
    }
   ],
   "source": [
    "to_plot = np.array(h)\n",
    "to_plot = np.reshape(h, (nx,ny))\n",
    "x = range(nx)\n",
    "y = range(ny)\n",
    "\n",
    "X, Y = np.meshgrid(x, y)\n",
    "\n",
    "plt.contourf(X, Y, to_plot, cmap='viridis')"
   ]
  },
  {
   "cell_type": "markdown",
   "metadata": {},
   "source": [
    "## Cyclic Boundaries\n",
    "\n",
    "We can treat the grid as infinite in one axis by changing the `reciever()` function to wrap on one axis. We also need to allow the `uplift()` function to include those boundaries.\n",
    "\n",
    "So, instead of using the range 1 -- `nx-1`, we will use the full range of `nx`. Then we want to wrap the value back to 0 for values over `nx-1` and to `nx-1` for values less than 0. (Note that this can also be done for the y axis, using `ny` instead of `nx`.)"
   ]
  },
  {
   "cell_type": "code",
   "execution_count": 11,
   "metadata": {
    "collapsed": true
   },
   "outputs": [],
   "source": [
    "def cyc_receiver(h, nn):\n",
    "    rec_array = [i for i in range(nn)]\n",
    "    length =  [0 for i in range(nn)]\n",
    "    for i in range(nx):\n",
    "        for j in range(1, ny-1):\n",
    "            ij = i + j * nx\n",
    "            max_slope = 0\n",
    "            for ii in range(-1, 2):\n",
    "                for jj in range(-1, 2):\n",
    "                    ii_val = i + ii\n",
    "                    jj_val = j + jj\n",
    "                    if ii_val > nx-1:\n",
    "                        ii_val = 0\n",
    "                    elif ii_val < 0:\n",
    "                        ii_val = nx-1\n",
    "                    ijk = ii_val + jj_val * nx\n",
    "                    if ijk != ij:\n",
    "                        distance = np.sqrt(((dx**2)*(ii**2))+((dy**2)*(jj**2)))\n",
    "                        slope = (h[ij] - h[ijk]) / distance\n",
    "                        if slope > max_slope:\n",
    "                            max_slope = slope\n",
    "                            rec_array[ij] = ijk\n",
    "                            length[ij] = distance\n",
    "    return (rec_array, length)\n",
    "\n",
    "def cyc_uplift(nx, ny, h, u, dt):\n",
    "    for i in range(nx):\n",
    "        for j in range(1, ny-1):\n",
    "            ij = i+j*nx\n",
    "            h[ij] += u * dt\n",
    "    return h"
   ]
  },
  {
   "cell_type": "markdown",
   "metadata": {
    "collapsed": false
   },
   "source": [
    "We can then repeat our earlier steps, only using our new `cyc_receiver()` and `cyc_uplift()` functions."
   ]
  },
  {
   "cell_type": "code",
   "execution_count": 12,
   "metadata": {
    "collapsed": false
   },
   "outputs": [],
   "source": [
    "h = []\n",
    "for i in range(nn):\n",
    "    h.append(np.random.random())\n",
    "    \n",
    "for i in range(100):\n",
    "    rec_array, length = cyc_receiver(h, nn)\n",
    "    num_donors, donors = get_donors(rec_array, nn)\n",
    "    stack = get_stack(rec_array, nn)\n",
    "    rev_stack = reverse_stack(stack, nn)\n",
    "    area = get_area(rev_stack, nn, rec_array)\n",
    "    h = cyc_uplift(nx, ny, h, u, dt)\n",
    "    h = erode(stack, nn, m, kf, dt, length)\n",
    "    #if i == 50:\n",
    "    #    u = 0\n",
    "    #print (max(h), min(h), np.mean(h), np.median(h))"
   ]
  },
  {
   "cell_type": "code",
   "execution_count": 13,
   "metadata": {
    "collapsed": false
   },
   "outputs": [
    {
     "data": {
      "text/plain": [
       "<matplotlib.contour.QuadContourSet at 0x6cb55f8>"
      ]
     },
     "execution_count": 13,
     "metadata": {},
     "output_type": "execute_result"
    },
    {
     "data": {
      "image/png": "[encoded data removed]",
      "text/plain": [
       "<matplotlib.figure.Figure at 0x6b71470>"
      ]
     },
     "metadata": {},
     "output_type": "display_data"
    }
   ],
   "source": [
    "to_plot = np.array(h)\n",
    "to_plot = np.reshape(h, (nx,ny))\n",
    "x = range(nx)\n",
    "y = range(ny)\n",
    "\n",
    "X, Y = np.meshgrid(x, y)\n",
    "\n",
    "plt.contourf(X, Y, to_plot, cmap='viridis')"
   ]
  },
  {
   "cell_type": "markdown",
   "metadata": {},
   "source": [
    "It is is also possible to plot the value of the `area` rather than the value of the `height` at each point.\n",
    "\n",
    "This gives us an indication of the discharge at a given point, essentially highlighting where the streams are."
   ]
  },
  {
   "cell_type": "code",
   "execution_count": 14,
   "metadata": {
    "collapsed": false
   },
   "outputs": [
    {
     "data": {
      "text/plain": [
       "<matplotlib.contour.QuadContourSet at 0x661fb38>"
      ]
     },
     "execution_count": 14,
     "metadata": {},
     "output_type": "execute_result"
    },
    {
     "data": {
      "image/png": "[encoded data removed]",
      "text/plain": [
       "<matplotlib.figure.Figure at 0x661f278>"
      ]
     },
     "metadata": {},
     "output_type": "display_data"
    }
   ],
   "source": [
    "to_plot = np.array(area)\n",
    "to_plot = np.reshape(area, (nx,ny))\n",
    "x = range(nx)\n",
    "y = range(ny)\n",
    "\n",
    "X, Y = np.meshgrid(x, y)\n",
    "\n",
    "plt.contourf(X, Y, to_plot, cmap='viridis')"
   ]
  },
  {
   "cell_type": "markdown",
   "metadata": {},
   "source": [
    "## Diffusion\n",
    "It can be noted that the resolution will affect the number of streams that are created in the model. This is a bad thing:"
   ]
  },
  {
   "cell_type": "code",
   "execution_count": 15,
   "metadata": {
    "collapsed": false,
    "scrolled": false
   },
   "outputs": [
    {
     "data": {
      "text/plain": [
       "<matplotlib.contour.QuadContourSet at 0x6f2ac18>"
      ]
     },
     "execution_count": 15,
     "metadata": {},
     "output_type": "execute_result"
    },
    {
     "data": {
      "image/png": "[encoded data removed]",
      "text/plain": [
       "<matplotlib.figure.Figure at 0x6eef6a0>"
      ]
     },
     "metadata": {},
     "output_type": "display_data"
    }
   ],
   "source": [
    "nx, ny = 21,21\n",
    "nn = nx*ny\n",
    "\n",
    "np.random.seed(123) #For checking that things are running the same each time.\n",
    "h = []\n",
    "for i in range(nn):\n",
    "    h.append(np.random.random())\n",
    "\n",
    "for i in range(100):\n",
    "    rec_array, length = cyc_receiver(h, nn)\n",
    "    num_donors, donors = get_donors(rec_array, nn)\n",
    "    stack = get_stack(rec_array, nn)\n",
    "    rev_stack = reverse_stack(stack, nn)\n",
    "    area = get_area(rev_stack, nn, rec_array)\n",
    "    h = cyc_uplift(nx, ny, h, u, dt)\n",
    "    h = erode(stack, nn, m, kf, dt, length)\n",
    "    #print (max(h), min(h), np.mean(h), np.median(h))\n",
    "\n",
    "to_plot = np.array(area)\n",
    "to_plot = np.reshape(area, (nx,ny))\n",
    "x = range(nx)\n",
    "y = range(ny)\n",
    "\n",
    "X, Y = np.meshgrid(x, y)\n",
    "\n",
    "plt.contourf(X, Y, to_plot, cmap='viridis')"
   ]
  },
  {
   "cell_type": "markdown",
   "metadata": {},
   "source": [
    "This will take longer to run, because of the larger grid, but plotting the area array shows that the number of streams varies."
   ]
  },
  {
   "cell_type": "code",
   "execution_count": 16,
   "metadata": {
    "collapsed": false
   },
   "outputs": [
    {
     "data": {
      "text/plain": [
       "<matplotlib.contour.QuadContourSet at 0x667b390>"
      ]
     },
     "execution_count": 16,
     "metadata": {},
     "output_type": "execute_result"
    },
    {
     "data": {
      "image/png": "[encoded data removed]",
      "text/plain": [
       "<matplotlib.figure.Figure at 0x70fdac8>"
      ]
     },
     "metadata": {},
     "output_type": "display_data"
    }
   ],
   "source": [
    "nx, ny = 61,61\n",
    "nn = nx*ny\n",
    "\n",
    "np.random.seed(123) #For checking that things are running the same each time.\n",
    "h = []\n",
    "for i in range(nn):\n",
    "    h.append(np.random.random())\n",
    "\n",
    "for i in range(100):\n",
    "    rec_array, length = cyc_receiver(h, nn)\n",
    "    num_donors, donors = get_donors(rec_array, nn)\n",
    "    stack = get_stack(rec_array, nn)\n",
    "    rev_stack = reverse_stack(stack, nn)\n",
    "    area = get_area(rev_stack, nn, rec_array)\n",
    "    h = cyc_uplift(nx, ny, h, u, dt)\n",
    "    h = erode(stack, nn, m, kf, dt, length)\n",
    "    #print (max(h), min(h), np.mean(h), np.median(h))\n",
    "\n",
    "to_plot = np.array(area)\n",
    "to_plot = np.reshape(area, (nx,ny))\n",
    "x = range(nx)\n",
    "y = range(ny)\n",
    "\n",
    "X, Y = np.meshgrid(x, y)\n",
    "\n",
    "plt.contourf(X, Y, to_plot, cmap='viridis')"
   ]
  },
  {
   "cell_type": "markdown",
   "metadata": {},
   "source": [
    "### Solution \n",
    "\n",
    "In order to eliminate this reliance on resolution, we will allow for diffusion of material off the slopes.\n",
    "\n",
    "This uses the well-known diffusion equation:\n",
    "\\begin{equation}\n",
    "\\frac{\\delta h}{\\delta t} = K_D\\frac{\\delta^2 h}{\\delta x^2}\n",
    "\\end{equation} for $h(x=0) = 0, h(x=l) = 0, h(t=0) = ?$\n",
    "\n",
    "Explicit $\\rightarrow$ Diffusion  \n",
    "$\\Delta t << \\tau$ (the charactistic time scale)\n",
    "\n",
    "Characteristic diffusion time scale:\n",
    "$\\begin{equation}\\tau = \\frac{L^2}{K_D} = \\frac{{x_l}^2}{K_D}\\end{equation}$\n",
    "\n",
    "So, we want to get this to be dimensionless by dividing each dimensioned variable by a characteristic unit:\n",
    "$\\begin{equation}h' = h/H, x' = x/L, t' = t/\\tau\\end{equation}$\n",
    "\n",
    "By letting $\\tau = \\frac{L^2}{K_D}$, we can simplify things to:\n",
    "\\begin{equation}\n",
    "\\frac{h'}{\\delta t'} = K_D\\frac{\\delta^2 h'}{\\delta x'^2}\n",
    "\\end{equation}\n",
    "\n",
    "$\\tau$ here is the diffusion time scale, and will indicate the amount of time that it would take to erode a given hill.\n",
    "For the model we have, $L^2$ is 100km $\\times$ 100km ($10^9$), and $\\tau$ is:\n",
    "$\\frac{{10^5}^2}{10} << 10^9$\n",
    "\n",
    "As can be seen, our $\\Delta t$ is much smaller, so this should work for us."
   ]
  },
  {
   "cell_type": "code",
   "execution_count": 17,
   "metadata": {
    "collapsed": false
   },
   "outputs": [],
   "source": [
    "def diffusion(h, nn, kd, dx, dy):\n",
    "    #stuff for diffusion:\n",
    "    hp = []\n",
    "    hp = [h[ij] for ij in range(nn)]\n",
    "    \n",
    "    fact_x = dt*kd/dx**2\n",
    "    fact_y = dt*kd/dy**2\n",
    "    \n",
    "    for j in range(1,ny-1):\n",
    "        for i in range(1,nx-1):\n",
    "            ipj = i+j*nx\n",
    "            imj = -i+j*nx\n",
    "            ijp = i+(j+1)*nx\n",
    "            if ijp > ny-1:\n",
    "                ijp = 0\n",
    "            elif ijp < 0:\n",
    "                ijp = ny-1\n",
    "            ijm = i+(j-1)*nx\n",
    "            if ijm < 0:\n",
    "                ijm = ny-1\n",
    "            h[ij] = h[ij] + fact_x * ( hp[ipj] - 2*hp[ij] + hp[ijm] ) + fact_y * ( hp[ijp] - 2*hp[ij] + hp[ijm] )\n",
    "    \n",
    "    return h"
   ]
  },
  {
   "cell_type": "markdown",
   "metadata": {},
   "source": [
    "Including this should make the number of streams that the model generates more stable, even with different `nx, ny` values:"
   ]
  },
  {
   "cell_type": "code",
   "execution_count": 18,
   "metadata": {
    "collapsed": false
   },
   "outputs": [
    {
     "name": "stderr",
     "output_type": "stream",
     "text": [
      "C:\\Users\\S214382818\\AppData\\Local\\Continuum\\Anaconda\\lib\\site-packages\\ipykernel\\__main__.py:21: RuntimeWarning: overflow encountered in double_scalars\n",
      "C:\\Users\\S214382818\\AppData\\Local\\Continuum\\Anaconda\\lib\\site-packages\\ipykernel\\__main__.py:21: RuntimeWarning: invalid value encountered in double_scalars\n"
     ]
    }
   ],
   "source": [
    "nx, ny = 31,31\n",
    "nn = nx*ny\n",
    "\n",
    "np.random.seed(10) #For checking that things are running the same each time.\n",
    "h = []\n",
    "for i in range(nn):\n",
    "    h.append(np.random.random())\n",
    "\n",
    "for i in range(100):\n",
    "    rec_array, length = cyc_receiver(h, nn)\n",
    "    num_donors, donors = get_donors(rec_array, nn)\n",
    "    stack = get_stack(rec_array, nn)\n",
    "    rev_stack = reverse_stack(stack, nn)\n",
    "    area = get_area(rev_stack, nn, rec_array)\n",
    "    h = cyc_uplift(nx, ny, h, u, dt)\n",
    "    h = erode(stack, nn, m, kf, dt, length)\n",
    "    h = diffusion(h, nn, kd, dx, dy)\n",
    "    #print (max(h), min(h), np.mean(h), np.median(h))"
   ]
  },
  {
   "cell_type": "code",
   "execution_count": 19,
   "metadata": {
    "collapsed": false,
    "scrolled": false
   },
   "outputs": [
    {
     "data": {
      "text/plain": [
       "<matplotlib.contour.QuadContourSet at 0x7453c50>"
      ]
     },
     "execution_count": 19,
     "metadata": {},
     "output_type": "execute_result"
    },
    {
     "data": {
      "image/png": "[encoded data removed]",
      "text/plain": [
       "<matplotlib.figure.Figure at 0x661fc50>"
      ]
     },
     "metadata": {},
     "output_type": "display_data"
    }
   ],
   "source": [
    "to_plot = np.array(area)\n",
    "to_plot = np.reshape(area, (nx,ny))\n",
    "x = range(nx)\n",
    "y = range(ny)\n",
    "\n",
    "X, Y = np.meshgrid(x, y)\n",
    "\n",
    "plt.contourf(X, Y, to_plot, cmap='viridis')"
   ]
  },
  {
   "cell_type": "markdown",
   "metadata": {},
   "source": [
    "This will take longer to run, because of the larger grid, but plotting the area shows that the number of streams is stable. The resolution with the larger grid is much better though."
   ]
  },
  {
   "cell_type": "code",
   "execution_count": 20,
   "metadata": {
    "collapsed": false
   },
   "outputs": [
    {
     "name": "stderr",
     "output_type": "stream",
     "text": [
      "C:\\Users\\S214382818\\AppData\\Local\\Continuum\\Anaconda\\lib\\site-packages\\ipykernel\\__main__.py:21: RuntimeWarning: overflow encountered in double_scalars\n",
      "C:\\Users\\S214382818\\AppData\\Local\\Continuum\\Anaconda\\lib\\site-packages\\ipykernel\\__main__.py:21: RuntimeWarning: invalid value encountered in double_scalars\n"
     ]
    }
   ],
   "source": [
    "nx, ny = 101,101\n",
    "nn = nx*ny\n",
    "\n",
    "np.random.seed(10) #For checking that things are running the same each time.\n",
    "h = []\n",
    "for i in range(nn):\n",
    "    h.append(np.random.random())\n",
    "\n",
    "for i in range(100):\n",
    "    rec_array, length = cyc_receiver(h, nn)\n",
    "    num_donors, donors = get_donors(rec_array, nn)\n",
    "    stack = get_stack(rec_array, nn)\n",
    "    rev_stack = reverse_stack(stack, nn)\n",
    "    area = get_area(rev_stack, nn, rec_array)\n",
    "    h = cyc_uplift(nx, ny, h, u, dt)\n",
    "    h = erode(stack, nn, m, kf, dt, length)\n",
    "    h = diffusion(h, nn, kd, dx, dy)\n",
    "    #print (max(h), min(h), np.mean(h), np.median(h))"
   ]
  },
  {
   "cell_type": "code",
   "execution_count": 21,
   "metadata": {
    "collapsed": false
   },
   "outputs": [
    {
     "data": {
      "text/plain": [
       "<matplotlib.contour.QuadContourSet at 0x661fdd8>"
      ]
     },
     "execution_count": 21,
     "metadata": {},
     "output_type": "execute_result"
    },
    {
     "data": {
      "image/png": "[encoded data removed]",
      "text/plain": [
       "<matplotlib.figure.Figure at 0x70e8668>"
      ]
     },
     "metadata": {},
     "output_type": "display_data"
    }
   ],
   "source": [
    "to_plot = np.array(area)\n",
    "to_plot = np.reshape(area, (nx,ny))\n",
    "x = range(nx)\n",
    "y = range(ny)\n",
    "\n",
    "X, Y = np.meshgrid(x, y)\n",
    "\n",
    "plt.contourf(X, Y, to_plot, cmap='viridis')"
   ]
  },
  {
   "cell_type": "markdown",
   "metadata": {},
   "source": [
    "### Another caveat regarding explicit modelling\n",
    "\n",
    "When using explicit models, we have to satisfy the *Courant condition*:\n",
    "$\\Delta t < \\frac{\\Delta x^2}{\\kappa_d}$\n",
    "\n",
    "For our model with `nx,ny` = 50:\n",
    "$\\Delta t$ must be $ < \\frac{{2\\times10^3}^2}{10}$, so a time step of 10,000 years is reasonable.\n",
    "\n",
    "As you increase the resolution of the mesh, then you need to at some point also increase your time step. If this is not done, things become unstable, and the model becomes useless.\n",
    "\n",
    "#### However...\n",
    "... while the implicit solution is immune to this instability, it is much slower to try and solve.\n",
    "\n",
    "### A final note:\n",
    "You need to validate a model. The best way is to solve a problem where there is a known solution. If your model gives you the correct answer, there is a good chance that the model is correct.\n",
    "\n",
    "For the diffusion equation, the $\\sin$ of the equation should also be sinusoidal, so this makes a good test."
   ]
  }
 ],
 "metadata": {
  "kernelspec": {
   "display_name": "Python 2",
   "language": "python",
   "name": "python2"
  },
  "language_info": {
   "codemirror_mode": {
    "name": "ipython",
    "version": 2
   },
   "file_extension": ".py",
   "mimetype": "text/x-python",
   "name": "python",
   "nbconvert_exporter": "python",
   "pygments_lexer": "ipython2",
   "version": "2.7.11"
  }
 },
 "nbformat": 4,
 "nbformat_minor": 0
}
